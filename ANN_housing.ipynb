{
  "nbformat": 4,
  "nbformat_minor": 0,
  "metadata": {
    "colab": {
      "name": "ANN_housing.ipynb",
      "provenance": [],
      "collapsed_sections": [],
      "authorship_tag": "ABX9TyOagA8wDI84FI7zhN2l0RHf",
      "include_colab_link": true
    },
    "kernelspec": {
      "name": "python3",
      "display_name": "Python 3"
    },
    "language_info": {
      "name": "python"
    },
    "accelerator": "GPU",
    "gpuClass": "standard"
  },
  "cells": [
    {
      "cell_type": "markdown",
      "metadata": {
        "id": "view-in-github",
        "colab_type": "text"
      },
      "source": [
        "<a href=\"https://colab.research.google.com/github/Ani-94/ANN_Deep_learning/blob/main/ANN_housing.ipynb\" target=\"_parent\"><img src=\"https://colab.research.google.com/assets/colab-badge.svg\" alt=\"Open In Colab\"/></a>"
      ]
    },
    {
      "cell_type": "code",
      "execution_count": 1,
      "metadata": {
        "id": "UFNdjNQPyljV"
      },
      "outputs": [],
      "source": [
        "import pandas as pd\n",
        "import numpy as np\n",
        "import seaborn as sns\n",
        "import matplotlib.pyplot as plt"
      ]
    },
    {
      "cell_type": "code",
      "source": [
        "ori_df = pd.read_csv('https://raw.githubusercontent.com/Ani-94/Finance_ML/main/HousingData.csv')"
      ],
      "metadata": {
        "id": "0s4KIuMi2Puz"
      },
      "execution_count": 2,
      "outputs": []
    },
    {
      "cell_type": "code",
      "source": [
        "ori_df"
      ],
      "metadata": {
        "colab": {
          "base_uri": "https://localhost:8080/",
          "height": 424
        },
        "id": "T_dI0aRF2UNC",
        "outputId": "be6d015a-8f96-4bbb-d1b4-28d9c8622ff1"
      },
      "execution_count": 3,
      "outputs": [
        {
          "output_type": "execute_result",
          "data": {
            "text/plain": [
              "        CRIM    ZN  INDUS  CHAS    NOX     RM   AGE     DIS  RAD  TAX  \\\n",
              "0    0.00632  18.0   2.31   0.0  0.538  6.575  65.2  4.0900    1  296   \n",
              "1    0.02731   0.0   7.07   0.0  0.469  6.421  78.9  4.9671    2  242   \n",
              "2    0.02729   0.0   7.07   0.0  0.469  7.185  61.1  4.9671    2  242   \n",
              "3    0.03237   0.0   2.18   0.0  0.458  6.998  45.8  6.0622    3  222   \n",
              "4    0.06905   0.0   2.18   0.0  0.458  7.147  54.2  6.0622    3  222   \n",
              "..       ...   ...    ...   ...    ...    ...   ...     ...  ...  ...   \n",
              "501  0.06263   0.0  11.93   0.0  0.573  6.593  69.1  2.4786    1  273   \n",
              "502  0.04527   0.0  11.93   0.0  0.573  6.120  76.7  2.2875    1  273   \n",
              "503  0.06076   0.0  11.93   0.0  0.573  6.976  91.0  2.1675    1  273   \n",
              "504  0.10959   0.0  11.93   0.0  0.573  6.794  89.3  2.3889    1  273   \n",
              "505  0.04741   0.0  11.93   0.0  0.573  6.030   NaN  2.5050    1  273   \n",
              "\n",
              "     PTRATIO       B  LSTAT  MEDV  \n",
              "0       15.3  396.90   4.98  24.0  \n",
              "1       17.8  396.90   9.14  21.6  \n",
              "2       17.8  392.83   4.03  34.7  \n",
              "3       18.7  394.63   2.94  33.4  \n",
              "4       18.7  396.90    NaN  36.2  \n",
              "..       ...     ...    ...   ...  \n",
              "501     21.0  391.99    NaN  22.4  \n",
              "502     21.0  396.90   9.08  20.6  \n",
              "503     21.0  396.90   5.64  23.9  \n",
              "504     21.0  393.45   6.48  22.0  \n",
              "505     21.0  396.90   7.88  11.9  \n",
              "\n",
              "[506 rows x 14 columns]"
            ],
            "text/html": [
              "\n",
              "  <div id=\"df-64a78dfa-f3ac-42d1-a83a-aac3f68ffb1c\">\n",
              "    <div class=\"colab-df-container\">\n",
              "      <div>\n",
              "<style scoped>\n",
              "    .dataframe tbody tr th:only-of-type {\n",
              "        vertical-align: middle;\n",
              "    }\n",
              "\n",
              "    .dataframe tbody tr th {\n",
              "        vertical-align: top;\n",
              "    }\n",
              "\n",
              "    .dataframe thead th {\n",
              "        text-align: right;\n",
              "    }\n",
              "</style>\n",
              "<table border=\"1\" class=\"dataframe\">\n",
              "  <thead>\n",
              "    <tr style=\"text-align: right;\">\n",
              "      <th></th>\n",
              "      <th>CRIM</th>\n",
              "      <th>ZN</th>\n",
              "      <th>INDUS</th>\n",
              "      <th>CHAS</th>\n",
              "      <th>NOX</th>\n",
              "      <th>RM</th>\n",
              "      <th>AGE</th>\n",
              "      <th>DIS</th>\n",
              "      <th>RAD</th>\n",
              "      <th>TAX</th>\n",
              "      <th>PTRATIO</th>\n",
              "      <th>B</th>\n",
              "      <th>LSTAT</th>\n",
              "      <th>MEDV</th>\n",
              "    </tr>\n",
              "  </thead>\n",
              "  <tbody>\n",
              "    <tr>\n",
              "      <th>0</th>\n",
              "      <td>0.00632</td>\n",
              "      <td>18.0</td>\n",
              "      <td>2.31</td>\n",
              "      <td>0.0</td>\n",
              "      <td>0.538</td>\n",
              "      <td>6.575</td>\n",
              "      <td>65.2</td>\n",
              "      <td>4.0900</td>\n",
              "      <td>1</td>\n",
              "      <td>296</td>\n",
              "      <td>15.3</td>\n",
              "      <td>396.90</td>\n",
              "      <td>4.98</td>\n",
              "      <td>24.0</td>\n",
              "    </tr>\n",
              "    <tr>\n",
              "      <th>1</th>\n",
              "      <td>0.02731</td>\n",
              "      <td>0.0</td>\n",
              "      <td>7.07</td>\n",
              "      <td>0.0</td>\n",
              "      <td>0.469</td>\n",
              "      <td>6.421</td>\n",
              "      <td>78.9</td>\n",
              "      <td>4.9671</td>\n",
              "      <td>2</td>\n",
              "      <td>242</td>\n",
              "      <td>17.8</td>\n",
              "      <td>396.90</td>\n",
              "      <td>9.14</td>\n",
              "      <td>21.6</td>\n",
              "    </tr>\n",
              "    <tr>\n",
              "      <th>2</th>\n",
              "      <td>0.02729</td>\n",
              "      <td>0.0</td>\n",
              "      <td>7.07</td>\n",
              "      <td>0.0</td>\n",
              "      <td>0.469</td>\n",
              "      <td>7.185</td>\n",
              "      <td>61.1</td>\n",
              "      <td>4.9671</td>\n",
              "      <td>2</td>\n",
              "      <td>242</td>\n",
              "      <td>17.8</td>\n",
              "      <td>392.83</td>\n",
              "      <td>4.03</td>\n",
              "      <td>34.7</td>\n",
              "    </tr>\n",
              "    <tr>\n",
              "      <th>3</th>\n",
              "      <td>0.03237</td>\n",
              "      <td>0.0</td>\n",
              "      <td>2.18</td>\n",
              "      <td>0.0</td>\n",
              "      <td>0.458</td>\n",
              "      <td>6.998</td>\n",
              "      <td>45.8</td>\n",
              "      <td>6.0622</td>\n",
              "      <td>3</td>\n",
              "      <td>222</td>\n",
              "      <td>18.7</td>\n",
              "      <td>394.63</td>\n",
              "      <td>2.94</td>\n",
              "      <td>33.4</td>\n",
              "    </tr>\n",
              "    <tr>\n",
              "      <th>4</th>\n",
              "      <td>0.06905</td>\n",
              "      <td>0.0</td>\n",
              "      <td>2.18</td>\n",
              "      <td>0.0</td>\n",
              "      <td>0.458</td>\n",
              "      <td>7.147</td>\n",
              "      <td>54.2</td>\n",
              "      <td>6.0622</td>\n",
              "      <td>3</td>\n",
              "      <td>222</td>\n",
              "      <td>18.7</td>\n",
              "      <td>396.90</td>\n",
              "      <td>NaN</td>\n",
              "      <td>36.2</td>\n",
              "    </tr>\n",
              "    <tr>\n",
              "      <th>...</th>\n",
              "      <td>...</td>\n",
              "      <td>...</td>\n",
              "      <td>...</td>\n",
              "      <td>...</td>\n",
              "      <td>...</td>\n",
              "      <td>...</td>\n",
              "      <td>...</td>\n",
              "      <td>...</td>\n",
              "      <td>...</td>\n",
              "      <td>...</td>\n",
              "      <td>...</td>\n",
              "      <td>...</td>\n",
              "      <td>...</td>\n",
              "      <td>...</td>\n",
              "    </tr>\n",
              "    <tr>\n",
              "      <th>501</th>\n",
              "      <td>0.06263</td>\n",
              "      <td>0.0</td>\n",
              "      <td>11.93</td>\n",
              "      <td>0.0</td>\n",
              "      <td>0.573</td>\n",
              "      <td>6.593</td>\n",
              "      <td>69.1</td>\n",
              "      <td>2.4786</td>\n",
              "      <td>1</td>\n",
              "      <td>273</td>\n",
              "      <td>21.0</td>\n",
              "      <td>391.99</td>\n",
              "      <td>NaN</td>\n",
              "      <td>22.4</td>\n",
              "    </tr>\n",
              "    <tr>\n",
              "      <th>502</th>\n",
              "      <td>0.04527</td>\n",
              "      <td>0.0</td>\n",
              "      <td>11.93</td>\n",
              "      <td>0.0</td>\n",
              "      <td>0.573</td>\n",
              "      <td>6.120</td>\n",
              "      <td>76.7</td>\n",
              "      <td>2.2875</td>\n",
              "      <td>1</td>\n",
              "      <td>273</td>\n",
              "      <td>21.0</td>\n",
              "      <td>396.90</td>\n",
              "      <td>9.08</td>\n",
              "      <td>20.6</td>\n",
              "    </tr>\n",
              "    <tr>\n",
              "      <th>503</th>\n",
              "      <td>0.06076</td>\n",
              "      <td>0.0</td>\n",
              "      <td>11.93</td>\n",
              "      <td>0.0</td>\n",
              "      <td>0.573</td>\n",
              "      <td>6.976</td>\n",
              "      <td>91.0</td>\n",
              "      <td>2.1675</td>\n",
              "      <td>1</td>\n",
              "      <td>273</td>\n",
              "      <td>21.0</td>\n",
              "      <td>396.90</td>\n",
              "      <td>5.64</td>\n",
              "      <td>23.9</td>\n",
              "    </tr>\n",
              "    <tr>\n",
              "      <th>504</th>\n",
              "      <td>0.10959</td>\n",
              "      <td>0.0</td>\n",
              "      <td>11.93</td>\n",
              "      <td>0.0</td>\n",
              "      <td>0.573</td>\n",
              "      <td>6.794</td>\n",
              "      <td>89.3</td>\n",
              "      <td>2.3889</td>\n",
              "      <td>1</td>\n",
              "      <td>273</td>\n",
              "      <td>21.0</td>\n",
              "      <td>393.45</td>\n",
              "      <td>6.48</td>\n",
              "      <td>22.0</td>\n",
              "    </tr>\n",
              "    <tr>\n",
              "      <th>505</th>\n",
              "      <td>0.04741</td>\n",
              "      <td>0.0</td>\n",
              "      <td>11.93</td>\n",
              "      <td>0.0</td>\n",
              "      <td>0.573</td>\n",
              "      <td>6.030</td>\n",
              "      <td>NaN</td>\n",
              "      <td>2.5050</td>\n",
              "      <td>1</td>\n",
              "      <td>273</td>\n",
              "      <td>21.0</td>\n",
              "      <td>396.90</td>\n",
              "      <td>7.88</td>\n",
              "      <td>11.9</td>\n",
              "    </tr>\n",
              "  </tbody>\n",
              "</table>\n",
              "<p>506 rows × 14 columns</p>\n",
              "</div>\n",
              "      <button class=\"colab-df-convert\" onclick=\"convertToInteractive('df-64a78dfa-f3ac-42d1-a83a-aac3f68ffb1c')\"\n",
              "              title=\"Convert this dataframe to an interactive table.\"\n",
              "              style=\"display:none;\">\n",
              "        \n",
              "  <svg xmlns=\"http://www.w3.org/2000/svg\" height=\"24px\"viewBox=\"0 0 24 24\"\n",
              "       width=\"24px\">\n",
              "    <path d=\"M0 0h24v24H0V0z\" fill=\"none\"/>\n",
              "    <path d=\"M18.56 5.44l.94 2.06.94-2.06 2.06-.94-2.06-.94-.94-2.06-.94 2.06-2.06.94zm-11 1L8.5 8.5l.94-2.06 2.06-.94-2.06-.94L8.5 2.5l-.94 2.06-2.06.94zm10 10l.94 2.06.94-2.06 2.06-.94-2.06-.94-.94-2.06-.94 2.06-2.06.94z\"/><path d=\"M17.41 7.96l-1.37-1.37c-.4-.4-.92-.59-1.43-.59-.52 0-1.04.2-1.43.59L10.3 9.45l-7.72 7.72c-.78.78-.78 2.05 0 2.83L4 21.41c.39.39.9.59 1.41.59.51 0 1.02-.2 1.41-.59l7.78-7.78 2.81-2.81c.8-.78.8-2.07 0-2.86zM5.41 20L4 18.59l7.72-7.72 1.47 1.35L5.41 20z\"/>\n",
              "  </svg>\n",
              "      </button>\n",
              "      \n",
              "  <style>\n",
              "    .colab-df-container {\n",
              "      display:flex;\n",
              "      flex-wrap:wrap;\n",
              "      gap: 12px;\n",
              "    }\n",
              "\n",
              "    .colab-df-convert {\n",
              "      background-color: #E8F0FE;\n",
              "      border: none;\n",
              "      border-radius: 50%;\n",
              "      cursor: pointer;\n",
              "      display: none;\n",
              "      fill: #1967D2;\n",
              "      height: 32px;\n",
              "      padding: 0 0 0 0;\n",
              "      width: 32px;\n",
              "    }\n",
              "\n",
              "    .colab-df-convert:hover {\n",
              "      background-color: #E2EBFA;\n",
              "      box-shadow: 0px 1px 2px rgba(60, 64, 67, 0.3), 0px 1px 3px 1px rgba(60, 64, 67, 0.15);\n",
              "      fill: #174EA6;\n",
              "    }\n",
              "\n",
              "    [theme=dark] .colab-df-convert {\n",
              "      background-color: #3B4455;\n",
              "      fill: #D2E3FC;\n",
              "    }\n",
              "\n",
              "    [theme=dark] .colab-df-convert:hover {\n",
              "      background-color: #434B5C;\n",
              "      box-shadow: 0px 1px 3px 1px rgba(0, 0, 0, 0.15);\n",
              "      filter: drop-shadow(0px 1px 2px rgba(0, 0, 0, 0.3));\n",
              "      fill: #FFFFFF;\n",
              "    }\n",
              "  </style>\n",
              "\n",
              "      <script>\n",
              "        const buttonEl =\n",
              "          document.querySelector('#df-64a78dfa-f3ac-42d1-a83a-aac3f68ffb1c button.colab-df-convert');\n",
              "        buttonEl.style.display =\n",
              "          google.colab.kernel.accessAllowed ? 'block' : 'none';\n",
              "\n",
              "        async function convertToInteractive(key) {\n",
              "          const element = document.querySelector('#df-64a78dfa-f3ac-42d1-a83a-aac3f68ffb1c');\n",
              "          const dataTable =\n",
              "            await google.colab.kernel.invokeFunction('convertToInteractive',\n",
              "                                                     [key], {});\n",
              "          if (!dataTable) return;\n",
              "\n",
              "          const docLinkHtml = 'Like what you see? Visit the ' +\n",
              "            '<a target=\"_blank\" href=https://colab.research.google.com/notebooks/data_table.ipynb>data table notebook</a>'\n",
              "            + ' to learn more about interactive tables.';\n",
              "          element.innerHTML = '';\n",
              "          dataTable['output_type'] = 'display_data';\n",
              "          await google.colab.output.renderOutput(dataTable, element);\n",
              "          const docLink = document.createElement('div');\n",
              "          docLink.innerHTML = docLinkHtml;\n",
              "          element.appendChild(docLink);\n",
              "        }\n",
              "      </script>\n",
              "    </div>\n",
              "  </div>\n",
              "  "
            ]
          },
          "metadata": {},
          "execution_count": 3
        }
      ]
    },
    {
      "cell_type": "code",
      "source": [
        "df= ori_df.copy()"
      ],
      "metadata": {
        "id": "fAPgCa6h2XWV"
      },
      "execution_count": 4,
      "outputs": []
    },
    {
      "cell_type": "code",
      "source": [
        "df.isnull().sum()"
      ],
      "metadata": {
        "colab": {
          "base_uri": "https://localhost:8080/"
        },
        "id": "zkA_gvTg3pml",
        "outputId": "71fd0acd-8340-4964-ab65-71495ee6e1d2"
      },
      "execution_count": 5,
      "outputs": [
        {
          "output_type": "execute_result",
          "data": {
            "text/plain": [
              "CRIM       20\n",
              "ZN         20\n",
              "INDUS      20\n",
              "CHAS       20\n",
              "NOX         0\n",
              "RM          0\n",
              "AGE        20\n",
              "DIS         0\n",
              "RAD         0\n",
              "TAX         0\n",
              "PTRATIO     0\n",
              "B           0\n",
              "LSTAT      20\n",
              "MEDV        0\n",
              "dtype: int64"
            ]
          },
          "metadata": {},
          "execution_count": 5
        }
      ]
    },
    {
      "cell_type": "code",
      "source": [
        "null_features=[feature for feature in df.columns if df[feature].isnull().sum()>=1]"
      ],
      "metadata": {
        "id": "UjVu0TFj4RYx"
      },
      "execution_count": 6,
      "outputs": []
    },
    {
      "cell_type": "code",
      "source": [
        "null_features"
      ],
      "metadata": {
        "colab": {
          "base_uri": "https://localhost:8080/"
        },
        "id": "yJw7Xs4a5UQM",
        "outputId": "dbc87e5c-73f7-4ff6-bdfc-aae7496ba7a9"
      },
      "execution_count": 7,
      "outputs": [
        {
          "output_type": "execute_result",
          "data": {
            "text/plain": [
              "['CRIM', 'ZN', 'INDUS', 'CHAS', 'AGE', 'LSTAT']"
            ]
          },
          "metadata": {},
          "execution_count": 7
        }
      ]
    },
    {
      "cell_type": "code",
      "source": [
        "df[null_features]=df[null_features].fillna(df[null_features].mean())"
      ],
      "metadata": {
        "id": "xW3gdbbA-zOi"
      },
      "execution_count": 8,
      "outputs": []
    },
    {
      "cell_type": "code",
      "source": [
        "df.isnull().sum()"
      ],
      "metadata": {
        "id": "8LzE3A4KBoVv",
        "outputId": "f76f0ed0-dc96-4fed-9b2f-7ef5a49d2b5f",
        "colab": {
          "base_uri": "https://localhost:8080/"
        }
      },
      "execution_count": 9,
      "outputs": [
        {
          "output_type": "execute_result",
          "data": {
            "text/plain": [
              "CRIM       0\n",
              "ZN         0\n",
              "INDUS      0\n",
              "CHAS       0\n",
              "NOX        0\n",
              "RM         0\n",
              "AGE        0\n",
              "DIS        0\n",
              "RAD        0\n",
              "TAX        0\n",
              "PTRATIO    0\n",
              "B          0\n",
              "LSTAT      0\n",
              "MEDV       0\n",
              "dtype: int64"
            ]
          },
          "metadata": {},
          "execution_count": 9
        }
      ]
    },
    {
      "cell_type": "code",
      "source": [
        "df1=df.copy()"
      ],
      "metadata": {
        "id": "QPKvRCMVvUUS"
      },
      "execution_count": 10,
      "outputs": []
    },
    {
      "cell_type": "code",
      "source": [
        "\n",
        "dfg=df1.copy()\n",
        "for i in dfg.columns:\n",
        " dfg[i]=np.log(dfg[i])\n",
        " plt.scatter(dfg[i],dfg['MEDV'])\n",
        " plt.xlabel(i)\n",
        " plt.show()"
      ],
      "metadata": {
        "colab": {
          "base_uri": "https://localhost:8080/",
          "height": 1000
        },
        "id": "6Z0ioiT6xwOF",
        "outputId": "e40dc91d-d5e5-4545-c9b9-af13d1d26790"
      },
      "execution_count": 11,
      "outputs": [
        {
          "output_type": "display_data",
          "data": {
            "text/plain": [
              "<Figure size 432x288 with 1 Axes>"
            ],
            "image/png": "[encoded data removed]"
          },
          "metadata": {
            "needs_background": "light"
          }
        },
        {
          "output_type": "stream",
          "name": "stderr",
          "text": [
            "/usr/local/lib/python3.7/dist-packages/pandas/core/arraylike.py:364: RuntimeWarning: divide by zero encountered in log\n",
            "  result = getattr(ufunc, method)(*inputs, **kwargs)\n"
          ]
        },
        {
          "output_type": "display_data",
          "data": {
            "text/plain": [
              "<Figure size 432x288 with 1 Axes>"
            ],
            "image/png": "[encoded data removed]"
          },
          "metadata": {
            "needs_background": "light"
          }
        },
        {
          "output_type": "display_data",
          "data": {
            "text/plain": [
              "<Figure size 432x288 with 1 Axes>"
            ],
            "image/png": "[encoded data removed]"
          },
          "metadata": {
            "needs_background": "light"
          }
        },
        {
          "output_type": "display_data",
          "data": {
            "text/plain": [
              "<Figure size 432x288 with 1 Axes>"
            ],
            "image/png": "[encoded data removed]"
          },
          "metadata": {
            "needs_background": "light"
          }
        },
        {
          "output_type": "display_data",
          "data": {
            "text/plain": [
              "<Figure size 432x288 with 1 Axes>"
            ],
            "image/png": "[encoded data removed]"
          },
          "metadata": {
            "needs_background": "light"
          }
        },
        {
          "output_type": "display_data",
          "data": {
            "text/plain": [
              "<Figure size 432x288 with 1 Axes>"
            ],
            "image/png": "[encoded data removed]"
          },
          "metadata": {
            "needs_background": "light"
          }
        },
        {
          "output_type": "display_data",
          "data": {
            "text/plain": [
              "<Figure size 432x288 with 1 Axes>"
            ],
            "image/png": "[encoded data removed]"
          },
          "metadata": {
            "needs_background": "light"
          }
        },
        {
          "output_type": "display_data",
          "data": {
            "text/plain": [
              "<Figure size 432x288 with 1 Axes>"
            ],
            "image/png": "[encoded data removed]"
          },
          "metadata": {
            "needs_background": "light"
          }
        },
        {
          "output_type": "display_data",
          "data": {
            "text/plain": [
              "<Figure size 432x288 with 1 Axes>"
            ],
            "image/png": "[encoded data removed]"
          },
          "metadata": {
            "needs_background": "light"
          }
        },
        {
          "output_type": "display_data",
          "data": {
            "text/plain": [
              "<Figure size 432x288 with 1 Axes>"
            ],
            "image/png": "[encoded data removed]"
          },
          "metadata": {
            "needs_background": "light"
          }
        },
        {
          "output_type": "display_data",
          "data": {
            "text/plain": [
              "<Figure size 432x288 with 1 Axes>"
            ],
            "image/png": "[encoded data removed]"
          },
          "metadata": {
            "needs_background": "light"
          }
        },
        {
          "output_type": "display_data",
          "data": {
            "text/plain": [
              "<Figure size 432x288 with 1 Axes>"
            ],
            "image/png": "[encoded data removed]"
          },
          "metadata": {
            "needs_background": "light"
          }
        },
        {
          "output_type": "display_data",
          "data": {
            "text/plain": [
              "<Figure size 432x288 with 1 Axes>"
            ],
            "image/png": "[encoded data removed]"
          },
          "metadata": {
            "needs_background": "light"
          }
        },
        {
          "output_type": "display_data",
          "data": {
            "text/plain": [
              "<Figure size 432x288 with 1 Axes>"
            ],
            "image/png": "[encoded data removed]"
          },
          "metadata": {
            "needs_background": "light"
          }
        }
      ]
    },
    {
      "cell_type": "code",
      "source": [
        "sns.histplot(dfg['MEDV'],kde=True)"
      ],
      "metadata": {
        "colab": {
          "base_uri": "https://localhost:8080/",
          "height": 296
        },
        "id": "elRErobpzWsx",
        "outputId": "963698a8-d827-4e1f-8fd3-ae6d84c720b2"
      },
      "execution_count": 12,
      "outputs": [
        {
          "output_type": "execute_result",
          "data": {
            "text/plain": [
              "<matplotlib.axes._subplots.AxesSubplot at 0x7fb8301ab410>"
            ]
          },
          "metadata": {},
          "execution_count": 12
        },
        {
          "output_type": "display_data",
          "data": {
            "text/plain": [
              "<Figure size 432x288 with 1 Axes>"
            ],
            "image/png": "[encoded data removed]"
          },
          "metadata": {
            "needs_background": "light"
          }
        }
      ]
    },
    {
      "cell_type": "code",
      "source": [
        "df1.corr()"
      ],
      "metadata": {
        "colab": {
          "base_uri": "https://localhost:8080/",
          "height": 488
        },
        "id": "3i9r9cpZznsj",
        "outputId": "a770fd70-174d-455a-83cb-a5f55c01127e"
      },
      "execution_count": 13,
      "outputs": [
        {
          "output_type": "execute_result",
          "data": {
            "text/plain": [
              "             CRIM        ZN     INDUS      CHAS       NOX        RM       AGE  \\\n",
              "CRIM     1.000000 -0.182930  0.391161 -0.052223  0.410377 -0.215434  0.344934   \n",
              "ZN      -0.182930  1.000000 -0.513336 -0.036147 -0.502287  0.316550 -0.541274   \n",
              "INDUS    0.391161 -0.513336  1.000000  0.058035  0.740965 -0.381457  0.614592   \n",
              "CHAS    -0.052223 -0.036147  0.058035  1.000000  0.073286  0.102284  0.075206   \n",
              "NOX      0.410377 -0.502287  0.740965  0.073286  1.000000 -0.302188  0.711461   \n",
              "RM      -0.215434  0.316550 -0.381457  0.102284 -0.302188  1.000000 -0.241351   \n",
              "AGE      0.344934 -0.541274  0.614592  0.075206  0.711461 -0.241351  1.000000   \n",
              "DIS     -0.366523  0.638388 -0.699639 -0.091680 -0.769230  0.205246 -0.724353   \n",
              "RAD      0.608886 -0.306316  0.593176  0.001425  0.611441 -0.209847  0.449989   \n",
              "TAX      0.566528 -0.308334  0.716062 -0.031483  0.668023 -0.292048  0.500589   \n",
              "PTRATIO  0.273384 -0.403085  0.384806 -0.109310  0.188933 -0.355501  0.262723   \n",
              "B       -0.370163  0.167431 -0.354597  0.050055 -0.380051  0.128069 -0.265282   \n",
              "LSTAT    0.434044 -0.407549  0.567354 -0.046166  0.572379 -0.602962  0.574893   \n",
              "MEDV    -0.379695  0.365943 -0.478657  0.179882 -0.427321  0.695360 -0.380223   \n",
              "\n",
              "              DIS       RAD       TAX   PTRATIO         B     LSTAT      MEDV  \n",
              "CRIM    -0.366523  0.608886  0.566528  0.273384 -0.370163  0.434044 -0.379695  \n",
              "ZN       0.638388 -0.306316 -0.308334 -0.403085  0.167431 -0.407549  0.365943  \n",
              "INDUS   -0.699639  0.593176  0.716062  0.384806 -0.354597  0.567354 -0.478657  \n",
              "CHAS    -0.091680  0.001425 -0.031483 -0.109310  0.050055 -0.046166  0.179882  \n",
              "NOX     -0.769230  0.611441  0.668023  0.188933 -0.380051  0.572379 -0.427321  \n",
              "RM       0.205246 -0.209847 -0.292048 -0.355501  0.128069 -0.602962  0.695360  \n",
              "AGE     -0.724353  0.449989  0.500589  0.262723 -0.265282  0.574893 -0.380223  \n",
              "DIS      1.000000 -0.494588 -0.534432 -0.232471  0.291512 -0.483429  0.249929  \n",
              "RAD     -0.494588  1.000000  0.910228  0.464741 -0.444413  0.468440 -0.381626  \n",
              "TAX     -0.534432  0.910228  1.000000  0.460853 -0.441808  0.524545 -0.468536  \n",
              "PTRATIO -0.232471  0.464741  0.460853  1.000000 -0.177383  0.373343 -0.507787  \n",
              "B        0.291512 -0.444413 -0.441808 -0.177383  1.000000 -0.368886  0.333461  \n",
              "LSTAT   -0.483429  0.468440  0.524545  0.373343 -0.368886  1.000000 -0.721975  \n",
              "MEDV     0.249929 -0.381626 -0.468536 -0.507787  0.333461 -0.721975  1.000000  "
            ],
            "text/html": [
              "\n",
              "  <div id=\"df-e50a01dd-e008-46e9-8698-93813ab7111f\">\n",
              "    <div class=\"colab-df-container\">\n",
              "      <div>\n",
              "<style scoped>\n",
              "    .dataframe tbody tr th:only-of-type {\n",
              "        vertical-align: middle;\n",
              "    }\n",
              "\n",
              "    .dataframe tbody tr th {\n",
              "        vertical-align: top;\n",
              "    }\n",
              "\n",
              "    .dataframe thead th {\n",
              "        text-align: right;\n",
              "    }\n",
              "</style>\n",
              "<table border=\"1\" class=\"dataframe\">\n",
              "  <thead>\n",
              "    <tr style=\"text-align: right;\">\n",
              "      <th></th>\n",
              "      <th>CRIM</th>\n",
              "      <th>ZN</th>\n",
              "      <th>INDUS</th>\n",
              "      <th>CHAS</th>\n",
              "      <th>NOX</th>\n",
              "      <th>RM</th>\n",
              "      <th>AGE</th>\n",
              "      <th>DIS</th>\n",
              "      <th>RAD</th>\n",
              "      <th>TAX</th>\n",
              "      <th>PTRATIO</th>\n",
              "      <th>B</th>\n",
              "      <th>LSTAT</th>\n",
              "      <th>MEDV</th>\n",
              "    </tr>\n",
              "  </thead>\n",
              "  <tbody>\n",
              "    <tr>\n",
              "      <th>CRIM</th>\n",
              "      <td>1.000000</td>\n",
              "      <td>-0.182930</td>\n",
              "      <td>0.391161</td>\n",
              "      <td>-0.052223</td>\n",
              "      <td>0.410377</td>\n",
              "      <td>-0.215434</td>\n",
              "      <td>0.344934</td>\n",
              "      <td>-0.366523</td>\n",
              "      <td>0.608886</td>\n",
              "      <td>0.566528</td>\n",
              "      <td>0.273384</td>\n",
              "      <td>-0.370163</td>\n",
              "      <td>0.434044</td>\n",
              "      <td>-0.379695</td>\n",
              "    </tr>\n",
              "    <tr>\n",
              "      <th>ZN</th>\n",
              "      <td>-0.182930</td>\n",
              "      <td>1.000000</td>\n",
              "      <td>-0.513336</td>\n",
              "      <td>-0.036147</td>\n",
              "      <td>-0.502287</td>\n",
              "      <td>0.316550</td>\n",
              "      <td>-0.541274</td>\n",
              "      <td>0.638388</td>\n",
              "      <td>-0.306316</td>\n",
              "      <td>-0.308334</td>\n",
              "      <td>-0.403085</td>\n",
              "      <td>0.167431</td>\n",
              "      <td>-0.407549</td>\n",
              "      <td>0.365943</td>\n",
              "    </tr>\n",
              "    <tr>\n",
              "      <th>INDUS</th>\n",
              "      <td>0.391161</td>\n",
              "      <td>-0.513336</td>\n",
              "      <td>1.000000</td>\n",
              "      <td>0.058035</td>\n",
              "      <td>0.740965</td>\n",
              "      <td>-0.381457</td>\n",
              "      <td>0.614592</td>\n",
              "      <td>-0.699639</td>\n",
              "      <td>0.593176</td>\n",
              "      <td>0.716062</td>\n",
              "      <td>0.384806</td>\n",
              "      <td>-0.354597</td>\n",
              "      <td>0.567354</td>\n",
              "      <td>-0.478657</td>\n",
              "    </tr>\n",
              "    <tr>\n",
              "      <th>CHAS</th>\n",
              "      <td>-0.052223</td>\n",
              "      <td>-0.036147</td>\n",
              "      <td>0.058035</td>\n",
              "      <td>1.000000</td>\n",
              "      <td>0.073286</td>\n",
              "      <td>0.102284</td>\n",
              "      <td>0.075206</td>\n",
              "      <td>-0.091680</td>\n",
              "      <td>0.001425</td>\n",
              "      <td>-0.031483</td>\n",
              "      <td>-0.109310</td>\n",
              "      <td>0.050055</td>\n",
              "      <td>-0.046166</td>\n",
              "      <td>0.179882</td>\n",
              "    </tr>\n",
              "    <tr>\n",
              "      <th>NOX</th>\n",
              "      <td>0.410377</td>\n",
              "      <td>-0.502287</td>\n",
              "      <td>0.740965</td>\n",
              "      <td>0.073286</td>\n",
              "      <td>1.000000</td>\n",
              "      <td>-0.302188</td>\n",
              "      <td>0.711461</td>\n",
              "      <td>-0.769230</td>\n",
              "      <td>0.611441</td>\n",
              "      <td>0.668023</td>\n",
              "      <td>0.188933</td>\n",
              "      <td>-0.380051</td>\n",
              "      <td>0.572379</td>\n",
              "      <td>-0.427321</td>\n",
              "    </tr>\n",
              "    <tr>\n",
              "      <th>RM</th>\n",
              "      <td>-0.215434</td>\n",
              "      <td>0.316550</td>\n",
              "      <td>-0.381457</td>\n",
              "      <td>0.102284</td>\n",
              "      <td>-0.302188</td>\n",
              "      <td>1.000000</td>\n",
              "      <td>-0.241351</td>\n",
              "      <td>0.205246</td>\n",
              "      <td>-0.209847</td>\n",
              "      <td>-0.292048</td>\n",
              "      <td>-0.355501</td>\n",
              "      <td>0.128069</td>\n",
              "      <td>-0.602962</td>\n",
              "      <td>0.695360</td>\n",
              "    </tr>\n",
              "    <tr>\n",
              "      <th>AGE</th>\n",
              "      <td>0.344934</td>\n",
              "      <td>-0.541274</td>\n",
              "      <td>0.614592</td>\n",
              "      <td>0.075206</td>\n",
              "      <td>0.711461</td>\n",
              "      <td>-0.241351</td>\n",
              "      <td>1.000000</td>\n",
              "      <td>-0.724353</td>\n",
              "      <td>0.449989</td>\n",
              "      <td>0.500589</td>\n",
              "      <td>0.262723</td>\n",
              "      <td>-0.265282</td>\n",
              "      <td>0.574893</td>\n",
              "      <td>-0.380223</td>\n",
              "    </tr>\n",
              "    <tr>\n",
              "      <th>DIS</th>\n",
              "      <td>-0.366523</td>\n",
              "      <td>0.638388</td>\n",
              "      <td>-0.699639</td>\n",
              "      <td>-0.091680</td>\n",
              "      <td>-0.769230</td>\n",
              "      <td>0.205246</td>\n",
              "      <td>-0.724353</td>\n",
              "      <td>1.000000</td>\n",
              "      <td>-0.494588</td>\n",
              "      <td>-0.534432</td>\n",
              "      <td>-0.232471</td>\n",
              "      <td>0.291512</td>\n",
              "      <td>-0.483429</td>\n",
              "      <td>0.249929</td>\n",
              "    </tr>\n",
              "    <tr>\n",
              "      <th>RAD</th>\n",
              "      <td>0.608886</td>\n",
              "      <td>-0.306316</td>\n",
              "      <td>0.593176</td>\n",
              "      <td>0.001425</td>\n",
              "      <td>0.611441</td>\n",
              "      <td>-0.209847</td>\n",
              "      <td>0.449989</td>\n",
              "      <td>-0.494588</td>\n",
              "      <td>1.000000</td>\n",
              "      <td>0.910228</td>\n",
              "      <td>0.464741</td>\n",
              "      <td>-0.444413</td>\n",
              "      <td>0.468440</td>\n",
              "      <td>-0.381626</td>\n",
              "    </tr>\n",
              "    <tr>\n",
              "      <th>TAX</th>\n",
              "      <td>0.566528</td>\n",
              "      <td>-0.308334</td>\n",
              "      <td>0.716062</td>\n",
              "      <td>-0.031483</td>\n",
              "      <td>0.668023</td>\n",
              "      <td>-0.292048</td>\n",
              "      <td>0.500589</td>\n",
              "      <td>-0.534432</td>\n",
              "      <td>0.910228</td>\n",
              "      <td>1.000000</td>\n",
              "      <td>0.460853</td>\n",
              "      <td>-0.441808</td>\n",
              "      <td>0.524545</td>\n",
              "      <td>-0.468536</td>\n",
              "    </tr>\n",
              "    <tr>\n",
              "      <th>PTRATIO</th>\n",
              "      <td>0.273384</td>\n",
              "      <td>-0.403085</td>\n",
              "      <td>0.384806</td>\n",
              "      <td>-0.109310</td>\n",
              "      <td>0.188933</td>\n",
              "      <td>-0.355501</td>\n",
              "      <td>0.262723</td>\n",
              "      <td>-0.232471</td>\n",
              "      <td>0.464741</td>\n",
              "      <td>0.460853</td>\n",
              "      <td>1.000000</td>\n",
              "      <td>-0.177383</td>\n",
              "      <td>0.373343</td>\n",
              "      <td>-0.507787</td>\n",
              "    </tr>\n",
              "    <tr>\n",
              "      <th>B</th>\n",
              "      <td>-0.370163</td>\n",
              "      <td>0.167431</td>\n",
              "      <td>-0.354597</td>\n",
              "      <td>0.050055</td>\n",
              "      <td>-0.380051</td>\n",
              "      <td>0.128069</td>\n",
              "      <td>-0.265282</td>\n",
              "      <td>0.291512</td>\n",
              "      <td>-0.444413</td>\n",
              "      <td>-0.441808</td>\n",
              "      <td>-0.177383</td>\n",
              "      <td>1.000000</td>\n",
              "      <td>-0.368886</td>\n",
              "      <td>0.333461</td>\n",
              "    </tr>\n",
              "    <tr>\n",
              "      <th>LSTAT</th>\n",
              "      <td>0.434044</td>\n",
              "      <td>-0.407549</td>\n",
              "      <td>0.567354</td>\n",
              "      <td>-0.046166</td>\n",
              "      <td>0.572379</td>\n",
              "      <td>-0.602962</td>\n",
              "      <td>0.574893</td>\n",
              "      <td>-0.483429</td>\n",
              "      <td>0.468440</td>\n",
              "      <td>0.524545</td>\n",
              "      <td>0.373343</td>\n",
              "      <td>-0.368886</td>\n",
              "      <td>1.000000</td>\n",
              "      <td>-0.721975</td>\n",
              "    </tr>\n",
              "    <tr>\n",
              "      <th>MEDV</th>\n",
              "      <td>-0.379695</td>\n",
              "      <td>0.365943</td>\n",
              "      <td>-0.478657</td>\n",
              "      <td>0.179882</td>\n",
              "      <td>-0.427321</td>\n",
              "      <td>0.695360</td>\n",
              "      <td>-0.380223</td>\n",
              "      <td>0.249929</td>\n",
              "      <td>-0.381626</td>\n",
              "      <td>-0.468536</td>\n",
              "      <td>-0.507787</td>\n",
              "      <td>0.333461</td>\n",
              "      <td>-0.721975</td>\n",
              "      <td>1.000000</td>\n",
              "    </tr>\n",
              "  </tbody>\n",
              "</table>\n",
              "</div>\n",
              "      <button class=\"colab-df-convert\" onclick=\"convertToInteractive('df-e50a01dd-e008-46e9-8698-93813ab7111f')\"\n",
              "              title=\"Convert this dataframe to an interactive table.\"\n",
              "              style=\"display:none;\">\n",
              "        \n",
              "  <svg xmlns=\"http://www.w3.org/2000/svg\" height=\"24px\"viewBox=\"0 0 24 24\"\n",
              "       width=\"24px\">\n",
              "    <path d=\"M0 0h24v24H0V0z\" fill=\"none\"/>\n",
              "    <path d=\"M18.56 5.44l.94 2.06.94-2.06 2.06-.94-2.06-.94-.94-2.06-.94 2.06-2.06.94zm-11 1L8.5 8.5l.94-2.06 2.06-.94-2.06-.94L8.5 2.5l-.94 2.06-2.06.94zm10 10l.94 2.06.94-2.06 2.06-.94-2.06-.94-.94-2.06-.94 2.06-2.06.94z\"/><path d=\"M17.41 7.96l-1.37-1.37c-.4-.4-.92-.59-1.43-.59-.52 0-1.04.2-1.43.59L10.3 9.45l-7.72 7.72c-.78.78-.78 2.05 0 2.83L4 21.41c.39.39.9.59 1.41.59.51 0 1.02-.2 1.41-.59l7.78-7.78 2.81-2.81c.8-.78.8-2.07 0-2.86zM5.41 20L4 18.59l7.72-7.72 1.47 1.35L5.41 20z\"/>\n",
              "  </svg>\n",
              "      </button>\n",
              "      \n",
              "  <style>\n",
              "    .colab-df-container {\n",
              "      display:flex;\n",
              "      flex-wrap:wrap;\n",
              "      gap: 12px;\n",
              "    }\n",
              "\n",
              "    .colab-df-convert {\n",
              "      background-color: #E8F0FE;\n",
              "      border: none;\n",
              "      border-radius: 50%;\n",
              "      cursor: pointer;\n",
              "      display: none;\n",
              "      fill: #1967D2;\n",
              "      height: 32px;\n",
              "      padding: 0 0 0 0;\n",
              "      width: 32px;\n",
              "    }\n",
              "\n",
              "    .colab-df-convert:hover {\n",
              "      background-color: #E2EBFA;\n",
              "      box-shadow: 0px 1px 2px rgba(60, 64, 67, 0.3), 0px 1px 3px 1px rgba(60, 64, 67, 0.15);\n",
              "      fill: #174EA6;\n",
              "    }\n",
              "\n",
              "    [theme=dark] .colab-df-convert {\n",
              "      background-color: #3B4455;\n",
              "      fill: #D2E3FC;\n",
              "    }\n",
              "\n",
              "    [theme=dark] .colab-df-convert:hover {\n",
              "      background-color: #434B5C;\n",
              "      box-shadow: 0px 1px 3px 1px rgba(0, 0, 0, 0.15);\n",
              "      filter: drop-shadow(0px 1px 2px rgba(0, 0, 0, 0.3));\n",
              "      fill: #FFFFFF;\n",
              "    }\n",
              "  </style>\n",
              "\n",
              "      <script>\n",
              "        const buttonEl =\n",
              "          document.querySelector('#df-e50a01dd-e008-46e9-8698-93813ab7111f button.colab-df-convert');\n",
              "        buttonEl.style.display =\n",
              "          google.colab.kernel.accessAllowed ? 'block' : 'none';\n",
              "\n",
              "        async function convertToInteractive(key) {\n",
              "          const element = document.querySelector('#df-e50a01dd-e008-46e9-8698-93813ab7111f');\n",
              "          const dataTable =\n",
              "            await google.colab.kernel.invokeFunction('convertToInteractive',\n",
              "                                                     [key], {});\n",
              "          if (!dataTable) return;\n",
              "\n",
              "          const docLinkHtml = 'Like what you see? Visit the ' +\n",
              "            '<a target=\"_blank\" href=https://colab.research.google.com/notebooks/data_table.ipynb>data table notebook</a>'\n",
              "            + ' to learn more about interactive tables.';\n",
              "          element.innerHTML = '';\n",
              "          dataTable['output_type'] = 'display_data';\n",
              "          await google.colab.output.renderOutput(dataTable, element);\n",
              "          const docLink = document.createElement('div');\n",
              "          docLink.innerHTML = docLinkHtml;\n",
              "          element.appendChild(docLink);\n",
              "        }\n",
              "      </script>\n",
              "    </div>\n",
              "  </div>\n",
              "  "
            ]
          },
          "metadata": {},
          "execution_count": 13
        }
      ]
    },
    {
      "cell_type": "code",
      "source": [
        "x = df1.loc[:,df.columns!='MEDV']\n",
        "y= df1.loc[:,df.columns=='MEDV']"
      ],
      "metadata": {
        "id": "bStI8couz9lQ"
      },
      "execution_count": 14,
      "outputs": []
    },
    {
      "cell_type": "code",
      "source": [
        "from sklearn.model_selection import train_test_split\n",
        "x_train,x_test,y_train,y_test=train_test_split(x,y,test_size=0.2)"
      ],
      "metadata": {
        "id": "50eVXebr0nKZ"
      },
      "execution_count": 15,
      "outputs": []
    },
    {
      "cell_type": "code",
      "source": [
        "from sklearn.preprocessing import StandardScaler"
      ],
      "metadata": {
        "id": "QV52uxkf0rh2"
      },
      "execution_count": 16,
      "outputs": []
    },
    {
      "cell_type": "code",
      "source": [
        "sc=StandardScaler()"
      ],
      "metadata": {
        "id": "ZFLWZ1wdANte"
      },
      "execution_count": 17,
      "outputs": []
    },
    {
      "cell_type": "code",
      "source": [
        "xtrain = sc.fit_transform(x_train)\n",
        "xtest = sc.transform(x_test)"
      ],
      "metadata": {
        "id": "-cqIfJS0AU_q"
      },
      "execution_count": 18,
      "outputs": []
    },
    {
      "cell_type": "code",
      "source": [
        "xtrain"
      ],
      "metadata": {
        "colab": {
          "base_uri": "https://localhost:8080/"
        },
        "id": "tf9Ed3LiAgvQ",
        "outputId": "27fdf45f-4cfe-4d24-b0fb-bd8f49172ed9"
      },
      "execution_count": 19,
      "outputs": [
        {
          "output_type": "execute_result",
          "data": {
            "text/plain": [
              "array([[-0.26007468, -0.49132432,  1.260315  , ..., -1.72757764,\n",
              "        -0.23969823, -1.04412342],\n",
              "       [-0.39236558, -0.49132432,  0.26028273, ...,  0.12643051,\n",
              "         0.16272133, -0.09574663],\n",
              "       [ 0.31784756, -0.49132432,  1.04104867, ...,  0.82168356,\n",
              "        -0.65856671,  1.68227663],\n",
              "       ...,\n",
              "       [-0.38750936,  0.07100813, -0.4745558 , ..., -1.49582662,\n",
              "         0.43192773,  0.95670242],\n",
              "       [-0.36640928, -0.49132432, -0.72197119, ..., -0.47612214,\n",
              "         0.22399938, -1.27132342],\n",
              "       [ 1.7196143 , -0.49132432,  1.04104867, ...,  0.82168356,\n",
              "        -3.83216734,  3.18765989]])"
            ]
          },
          "metadata": {},
          "execution_count": 19
        }
      ]
    },
    {
      "cell_type": "code",
      "source": [
        "xtest"
      ],
      "metadata": {
        "colab": {
          "base_uri": "https://localhost:8080/"
        },
        "id": "e55kCdnzAmzD",
        "outputId": "7fa7f11e-162a-4377-f639-7f58574ca451"
      },
      "execution_count": 20,
      "outputs": [
        {
          "output_type": "execute_result",
          "data": {
            "text/plain": [
              "array([[-0.38796427, -0.49132432, -0.07157983, ...,  0.0800803 ,\n",
              "         0.30346392, -0.47539051],\n",
              "       [-0.37520399, -0.49132432, -0.17380535, ..., -0.0126201 ,\n",
              "         0.42636753, -0.16463953],\n",
              "       [-0.39750288,  0.01306244, -1.27606314, ..., -0.29072133,\n",
              "         0.38246511, -1.1980331 ],\n",
              "       ...,\n",
              "       [ 0.52724202, -0.49132432,  0.0016065 , ...,  0.82168356,\n",
              "         0.18832142,  0.60344306],\n",
              "       [ 0.01086807, -0.49132432,  1.04104867, ...,  0.82168356,\n",
              "         0.33601426, -0.29949373],\n",
              "       [ 0.58014574, -0.49132432,  1.04104867, ...,  0.82168356,\n",
              "         0.37493567,  0.65914371]])"
            ]
          },
          "metadata": {},
          "execution_count": 20
        }
      ]
    },
    {
      "cell_type": "code",
      "source": [
        "xtrain.shape"
      ],
      "metadata": {
        "colab": {
          "base_uri": "https://localhost:8080/"
        },
        "id": "XYy0DOUYAnTc",
        "outputId": "17a45de0-fe89-4a16-e085-42e3fd7ae1df"
      },
      "execution_count": 21,
      "outputs": [
        {
          "output_type": "execute_result",
          "data": {
            "text/plain": [
              "(404, 13)"
            ]
          },
          "metadata": {},
          "execution_count": 21
        }
      ]
    },
    {
      "cell_type": "code",
      "source": [
        "import tensorflow as tf"
      ],
      "metadata": {
        "id": "9fGRrW6IApYV"
      },
      "execution_count": 25,
      "outputs": []
    },
    {
      "cell_type": "code",
      "source": [
        "from tensorflow.keras.models import Sequential\n",
        "from tensorflow.keras.layers import Dense\n",
        "from tensorflow.keras.layers import ReLU,PReLU,LeakyReLU,ELU\n",
        "from tensorflow.keras.layers import Dropout\n"
      ],
      "metadata": {
        "id": "4hJck7lOAtG4"
      },
      "execution_count": 27,
      "outputs": []
    },
    {
      "cell_type": "code",
      "source": [
        "reg = Sequential()"
      ],
      "metadata": {
        "id": "guupWVzqBikf"
      },
      "execution_count": 28,
      "outputs": []
    },
    {
      "cell_type": "code",
      "source": [
        "reg.add(Dense(12,input_shape = (13,),activation = 'relu'))\n",
        "reg.add(Dense(units = 12,activation = 'relu'))\n",
        "reg.add(Dense(units = 12,activation = 'relu'))\n",
        "reg.add(Dense(units = 12,activation = 'relu'))\n",
        "reg.add(Dense(1,activation = 'linear'))"
      ],
      "metadata": {
        "id": "sc4WWsvfBrQ_"
      },
      "execution_count": 32,
      "outputs": []
    },
    {
      "cell_type": "code",
      "source": [
        "reg.summary()"
      ],
      "metadata": {
        "colab": {
          "base_uri": "https://localhost:8080/"
        },
        "id": "9p5-z8HzCqLA",
        "outputId": "598e9357-a10c-4b79-b6e1-4305d7b7b93a"
      },
      "execution_count": 34,
      "outputs": [
        {
          "output_type": "stream",
          "name": "stdout",
          "text": [
            "Model: \"sequential\"\n",
            "_________________________________________________________________\n",
            " Layer (type)                Output Shape              Param #   \n",
            "=================================================================\n",
            " dense_1 (Dense)             (None, 12)                168       \n",
            "                                                                 \n",
            " dense_2 (Dense)             (None, 12)                156       \n",
            "                                                                 \n",
            " dense_3 (Dense)             (None, 12)                156       \n",
            "                                                                 \n",
            " dense_4 (Dense)             (None, 12)                156       \n",
            "                                                                 \n",
            " dense_5 (Dense)             (None, 12)                156       \n",
            "                                                                 \n",
            " dense_6 (Dense)             (None, 1)                 13        \n",
            "                                                                 \n",
            "=================================================================\n",
            "Total params: 805\n",
            "Trainable params: 805\n",
            "Non-trainable params: 0\n",
            "_________________________________________________________________\n"
          ]
        }
      ]
    },
    {
      "cell_type": "code",
      "source": [
        "reg.compile(optimizer = 'adam',loss = 'mean_squared_error',metrics=['mean_squared_error'])"
      ],
      "metadata": {
        "id": "KVkSoZXWDaRA"
      },
      "execution_count": 36,
      "outputs": []
    },
    {
      "cell_type": "code",
      "source": [
        "import tensorflow as tf\n",
        "opt = tf.keras.optimizers.Adam(learning_rate = 0.01)"
      ],
      "metadata": {
        "id": "83Nao8jRD9aH"
      },
      "execution_count": 42,
      "outputs": []
    },
    {
      "cell_type": "code",
      "source": [
        "early_stopping = tf.keras.callbacks.EarlyStopping(\n",
        "    monitor = 'mean_squared_error',\n",
        "    min_delta = 0.0001,\n",
        "    patience = 40,\n",
        "    verbose = 1,\n",
        "    mode ='auto',\n",
        "    baseline = None,\n",
        "    restore_best_weights = False\n",
        ")"
      ],
      "metadata": {
        "id": "q-2ptAeNELa0"
      },
      "execution_count": 43,
      "outputs": []
    },
    {
      "cell_type": "code",
      "source": [
        "xtrain.shape"
      ],
      "metadata": {
        "colab": {
          "base_uri": "https://localhost:8080/"
        },
        "id": "IBbQVbAjFLA6",
        "outputId": "485c42d0-0a2e-4128-9e36-32dd3df9d2c1"
      },
      "execution_count": 44,
      "outputs": [
        {
          "output_type": "execute_result",
          "data": {
            "text/plain": [
              "(404, 13)"
            ]
          },
          "metadata": {},
          "execution_count": 44
        }
      ]
    },
    {
      "cell_type": "code",
      "source": [
        "model_history = reg.fit(xtrain,y_train,validation_data = (xtest,y_test),batch_size = 10, epochs = 200,callbacks = early_stopping)"
      ],
      "metadata": {
        "colab": {
          "base_uri": "https://localhost:8080/"
        },
        "id": "MkJDTUNPFhkP",
        "outputId": "002fdb8a-0fd5-4558-b3c2-0c81d7b583d4"
      },
      "execution_count": 46,
      "outputs": [
        {
          "output_type": "stream",
          "name": "stdout",
          "text": [
            "Epoch 1/200\n",
            "41/41 [==============================] - 3s 7ms/step - loss: 591.9734 - mean_squared_error: 591.9734 - val_loss: 577.5497 - val_mean_squared_error: 577.5497\n",
            "Epoch 2/200\n",
            "41/41 [==============================] - 0s 4ms/step - loss: 569.0932 - mean_squared_error: 569.0932 - val_loss: 525.8853 - val_mean_squared_error: 525.8853\n",
            "Epoch 3/200\n",
            "41/41 [==============================] - 0s 4ms/step - loss: 434.4621 - mean_squared_error: 434.4621 - val_loss: 276.6566 - val_mean_squared_error: 276.6566\n",
            "Epoch 4/200\n",
            "41/41 [==============================] - 0s 4ms/step - loss: 142.5208 - mean_squared_error: 142.5208 - val_loss: 89.2963 - val_mean_squared_error: 89.2963\n",
            "Epoch 5/200\n",
            "41/41 [==============================] - 0s 4ms/step - loss: 68.6381 - mean_squared_error: 68.6381 - val_loss: 61.5177 - val_mean_squared_error: 61.5177\n",
            "Epoch 6/200\n",
            "41/41 [==============================] - 0s 4ms/step - loss: 50.8606 - mean_squared_error: 50.8606 - val_loss: 49.9123 - val_mean_squared_error: 49.9123\n",
            "Epoch 7/200\n",
            "41/41 [==============================] - 0s 4ms/step - loss: 41.6922 - mean_squared_error: 41.6922 - val_loss: 44.1731 - val_mean_squared_error: 44.1731\n",
            "Epoch 8/200\n",
            "41/41 [==============================] - 0s 4ms/step - loss: 37.4748 - mean_squared_error: 37.4748 - val_loss: 40.1763 - val_mean_squared_error: 40.1763\n",
            "Epoch 9/200\n",
            "41/41 [==============================] - 0s 4ms/step - loss: 34.1429 - mean_squared_error: 34.1429 - val_loss: 38.0175 - val_mean_squared_error: 38.0175\n",
            "Epoch 10/200\n",
            "41/41 [==============================] - 0s 4ms/step - loss: 31.9541 - mean_squared_error: 31.9541 - val_loss: 35.3208 - val_mean_squared_error: 35.3208\n",
            "Epoch 11/200\n",
            "41/41 [==============================] - 0s 4ms/step - loss: 30.1151 - mean_squared_error: 30.1151 - val_loss: 33.4740 - val_mean_squared_error: 33.4740\n",
            "Epoch 12/200\n",
            "41/41 [==============================] - 0s 4ms/step - loss: 28.3874 - mean_squared_error: 28.3874 - val_loss: 31.7126 - val_mean_squared_error: 31.7126\n",
            "Epoch 13/200\n",
            "41/41 [==============================] - 0s 4ms/step - loss: 27.1618 - mean_squared_error: 27.1618 - val_loss: 29.7093 - val_mean_squared_error: 29.7093\n",
            "Epoch 14/200\n",
            "41/41 [==============================] - 0s 4ms/step - loss: 25.8394 - mean_squared_error: 25.8394 - val_loss: 28.5131 - val_mean_squared_error: 28.5131\n",
            "Epoch 15/200\n",
            "41/41 [==============================] - 0s 4ms/step - loss: 24.7317 - mean_squared_error: 24.7317 - val_loss: 26.8587 - val_mean_squared_error: 26.8587\n",
            "Epoch 16/200\n",
            "41/41 [==============================] - 0s 4ms/step - loss: 23.6139 - mean_squared_error: 23.6139 - val_loss: 26.3036 - val_mean_squared_error: 26.3036\n",
            "Epoch 17/200\n",
            "41/41 [==============================] - 0s 4ms/step - loss: 22.9071 - mean_squared_error: 22.9071 - val_loss: 24.7382 - val_mean_squared_error: 24.7382\n",
            "Epoch 18/200\n",
            "41/41 [==============================] - 0s 4ms/step - loss: 21.9144 - mean_squared_error: 21.9144 - val_loss: 23.0817 - val_mean_squared_error: 23.0817\n",
            "Epoch 19/200\n",
            "41/41 [==============================] - 0s 5ms/step - loss: 20.8261 - mean_squared_error: 20.8261 - val_loss: 22.7446 - val_mean_squared_error: 22.7446\n",
            "Epoch 20/200\n",
            "41/41 [==============================] - 0s 4ms/step - loss: 20.0177 - mean_squared_error: 20.0177 - val_loss: 21.0039 - val_mean_squared_error: 21.0039\n",
            "Epoch 21/200\n",
            "41/41 [==============================] - 0s 4ms/step - loss: 19.4620 - mean_squared_error: 19.4620 - val_loss: 20.2587 - val_mean_squared_error: 20.2587\n",
            "Epoch 22/200\n",
            "41/41 [==============================] - 0s 5ms/step - loss: 18.8622 - mean_squared_error: 18.8622 - val_loss: 19.4332 - val_mean_squared_error: 19.4332\n",
            "Epoch 23/200\n",
            "41/41 [==============================] - 0s 4ms/step - loss: 18.1354 - mean_squared_error: 18.1354 - val_loss: 18.6233 - val_mean_squared_error: 18.6233\n",
            "Epoch 24/200\n",
            "41/41 [==============================] - 0s 4ms/step - loss: 17.8472 - mean_squared_error: 17.8472 - val_loss: 17.9662 - val_mean_squared_error: 17.9662\n",
            "Epoch 25/200\n",
            "41/41 [==============================] - 0s 4ms/step - loss: 17.4516 - mean_squared_error: 17.4516 - val_loss: 17.3114 - val_mean_squared_error: 17.3114\n",
            "Epoch 26/200\n",
            "41/41 [==============================] - 0s 4ms/step - loss: 16.7937 - mean_squared_error: 16.7937 - val_loss: 16.8182 - val_mean_squared_error: 16.8182\n",
            "Epoch 27/200\n",
            "41/41 [==============================] - 0s 4ms/step - loss: 16.3649 - mean_squared_error: 16.3649 - val_loss: 16.5228 - val_mean_squared_error: 16.5228\n",
            "Epoch 28/200\n",
            "41/41 [==============================] - 0s 4ms/step - loss: 16.1420 - mean_squared_error: 16.1420 - val_loss: 16.2659 - val_mean_squared_error: 16.2659\n",
            "Epoch 29/200\n",
            "41/41 [==============================] - 0s 4ms/step - loss: 15.8166 - mean_squared_error: 15.8166 - val_loss: 15.4233 - val_mean_squared_error: 15.4233\n",
            "Epoch 30/200\n",
            "41/41 [==============================] - 0s 4ms/step - loss: 15.0627 - mean_squared_error: 15.0627 - val_loss: 15.0701 - val_mean_squared_error: 15.0701\n",
            "Epoch 31/200\n",
            "41/41 [==============================] - 0s 4ms/step - loss: 15.0229 - mean_squared_error: 15.0229 - val_loss: 14.8971 - val_mean_squared_error: 14.8971\n",
            "Epoch 32/200\n",
            "41/41 [==============================] - 0s 4ms/step - loss: 14.4759 - mean_squared_error: 14.4759 - val_loss: 14.9307 - val_mean_squared_error: 14.9307\n",
            "Epoch 33/200\n",
            "41/41 [==============================] - 0s 3ms/step - loss: 14.1665 - mean_squared_error: 14.1665 - val_loss: 14.5080 - val_mean_squared_error: 14.5080\n",
            "Epoch 34/200\n",
            "41/41 [==============================] - 0s 4ms/step - loss: 14.1859 - mean_squared_error: 14.1859 - val_loss: 14.1977 - val_mean_squared_error: 14.1977\n",
            "Epoch 35/200\n",
            "41/41 [==============================] - 0s 4ms/step - loss: 13.8501 - mean_squared_error: 13.8501 - val_loss: 14.1796 - val_mean_squared_error: 14.1796\n",
            "Epoch 36/200\n",
            "41/41 [==============================] - 0s 4ms/step - loss: 13.5698 - mean_squared_error: 13.5698 - val_loss: 14.4656 - val_mean_squared_error: 14.4656\n",
            "Epoch 37/200\n",
            "41/41 [==============================] - 0s 4ms/step - loss: 13.1883 - mean_squared_error: 13.1883 - val_loss: 14.5614 - val_mean_squared_error: 14.5614\n",
            "Epoch 38/200\n",
            "41/41 [==============================] - 0s 4ms/step - loss: 13.3272 - mean_squared_error: 13.3272 - val_loss: 13.7488 - val_mean_squared_error: 13.7488\n",
            "Epoch 39/200\n",
            "41/41 [==============================] - 0s 4ms/step - loss: 12.7608 - mean_squared_error: 12.7608 - val_loss: 13.7260 - val_mean_squared_error: 13.7260\n",
            "Epoch 40/200\n",
            "41/41 [==============================] - 0s 4ms/step - loss: 12.4917 - mean_squared_error: 12.4917 - val_loss: 13.6148 - val_mean_squared_error: 13.6148\n",
            "Epoch 41/200\n",
            "41/41 [==============================] - 0s 4ms/step - loss: 12.4793 - mean_squared_error: 12.4793 - val_loss: 13.5613 - val_mean_squared_error: 13.5613\n",
            "Epoch 42/200\n",
            "41/41 [==============================] - 0s 4ms/step - loss: 12.1948 - mean_squared_error: 12.1948 - val_loss: 13.6350 - val_mean_squared_error: 13.6350\n",
            "Epoch 43/200\n",
            "41/41 [==============================] - 0s 4ms/step - loss: 12.1133 - mean_squared_error: 12.1133 - val_loss: 13.5719 - val_mean_squared_error: 13.5719\n",
            "Epoch 44/200\n",
            "41/41 [==============================] - 0s 4ms/step - loss: 12.1284 - mean_squared_error: 12.1284 - val_loss: 13.4895 - val_mean_squared_error: 13.4895\n",
            "Epoch 45/200\n",
            "41/41 [==============================] - 0s 4ms/step - loss: 12.1266 - mean_squared_error: 12.1266 - val_loss: 13.5231 - val_mean_squared_error: 13.5231\n",
            "Epoch 46/200\n",
            "41/41 [==============================] - 0s 4ms/step - loss: 11.7780 - mean_squared_error: 11.7780 - val_loss: 13.7057 - val_mean_squared_error: 13.7057\n",
            "Epoch 47/200\n",
            "41/41 [==============================] - 0s 4ms/step - loss: 12.0867 - mean_squared_error: 12.0867 - val_loss: 14.1494 - val_mean_squared_error: 14.1494\n",
            "Epoch 48/200\n",
            "41/41 [==============================] - 0s 4ms/step - loss: 11.6864 - mean_squared_error: 11.6864 - val_loss: 13.1088 - val_mean_squared_error: 13.1088\n",
            "Epoch 49/200\n",
            "41/41 [==============================] - 0s 4ms/step - loss: 11.6821 - mean_squared_error: 11.6821 - val_loss: 14.0326 - val_mean_squared_error: 14.0326\n",
            "Epoch 50/200\n",
            "41/41 [==============================] - 0s 4ms/step - loss: 11.8065 - mean_squared_error: 11.8065 - val_loss: 13.6716 - val_mean_squared_error: 13.6716\n",
            "Epoch 51/200\n",
            "41/41 [==============================] - 0s 4ms/step - loss: 11.5029 - mean_squared_error: 11.5029 - val_loss: 13.5040 - val_mean_squared_error: 13.5040\n",
            "Epoch 52/200\n",
            "41/41 [==============================] - 0s 4ms/step - loss: 11.3136 - mean_squared_error: 11.3136 - val_loss: 13.1268 - val_mean_squared_error: 13.1268\n",
            "Epoch 53/200\n",
            "41/41 [==============================] - 0s 4ms/step - loss: 11.3761 - mean_squared_error: 11.3761 - val_loss: 13.0986 - val_mean_squared_error: 13.0986\n",
            "Epoch 54/200\n",
            "41/41 [==============================] - 0s 4ms/step - loss: 11.2166 - mean_squared_error: 11.2166 - val_loss: 13.5924 - val_mean_squared_error: 13.5924\n",
            "Epoch 55/200\n",
            "41/41 [==============================] - 0s 4ms/step - loss: 11.1143 - mean_squared_error: 11.1143 - val_loss: 13.3761 - val_mean_squared_error: 13.3761\n",
            "Epoch 56/200\n",
            "41/41 [==============================] - 0s 4ms/step - loss: 10.9815 - mean_squared_error: 10.9815 - val_loss: 13.5106 - val_mean_squared_error: 13.5106\n",
            "Epoch 57/200\n",
            "41/41 [==============================] - 0s 4ms/step - loss: 11.1228 - mean_squared_error: 11.1228 - val_loss: 13.3224 - val_mean_squared_error: 13.3224\n",
            "Epoch 58/200\n",
            "41/41 [==============================] - 0s 4ms/step - loss: 11.1050 - mean_squared_error: 11.1050 - val_loss: 12.9646 - val_mean_squared_error: 12.9646\n",
            "Epoch 59/200\n",
            "41/41 [==============================] - 0s 4ms/step - loss: 10.9181 - mean_squared_error: 10.9181 - val_loss: 13.6037 - val_mean_squared_error: 13.6037\n",
            "Epoch 60/200\n",
            "41/41 [==============================] - 0s 4ms/step - loss: 10.7762 - mean_squared_error: 10.7762 - val_loss: 13.2234 - val_mean_squared_error: 13.2234\n",
            "Epoch 61/200\n",
            "41/41 [==============================] - 0s 4ms/step - loss: 10.9103 - mean_squared_error: 10.9103 - val_loss: 13.2478 - val_mean_squared_error: 13.2478\n",
            "Epoch 62/200\n",
            "41/41 [==============================] - 0s 4ms/step - loss: 10.8311 - mean_squared_error: 10.8311 - val_loss: 13.2675 - val_mean_squared_error: 13.2675\n",
            "Epoch 63/200\n",
            "41/41 [==============================] - 0s 4ms/step - loss: 10.7602 - mean_squared_error: 10.7602 - val_loss: 13.2355 - val_mean_squared_error: 13.2355\n",
            "Epoch 64/200\n",
            "41/41 [==============================] - 0s 4ms/step - loss: 10.5229 - mean_squared_error: 10.5229 - val_loss: 13.0823 - val_mean_squared_error: 13.0823\n",
            "Epoch 65/200\n",
            "41/41 [==============================] - 0s 4ms/step - loss: 10.8010 - mean_squared_error: 10.8010 - val_loss: 13.4985 - val_mean_squared_error: 13.4985\n",
            "Epoch 66/200\n",
            "41/41 [==============================] - 0s 4ms/step - loss: 10.7095 - mean_squared_error: 10.7095 - val_loss: 13.2456 - val_mean_squared_error: 13.2456\n",
            "Epoch 67/200\n",
            "41/41 [==============================] - 0s 4ms/step - loss: 10.3587 - mean_squared_error: 10.3587 - val_loss: 13.8122 - val_mean_squared_error: 13.8122\n",
            "Epoch 68/200\n",
            "41/41 [==============================] - 0s 4ms/step - loss: 10.4906 - mean_squared_error: 10.4906 - val_loss: 13.5686 - val_mean_squared_error: 13.5686\n",
            "Epoch 69/200\n",
            "41/41 [==============================] - 0s 4ms/step - loss: 10.2452 - mean_squared_error: 10.2452 - val_loss: 14.0086 - val_mean_squared_error: 14.0086\n",
            "Epoch 70/200\n",
            "41/41 [==============================] - 0s 4ms/step - loss: 10.6076 - mean_squared_error: 10.6076 - val_loss: 13.4283 - val_mean_squared_error: 13.4283\n",
            "Epoch 71/200\n",
            "41/41 [==============================] - 0s 4ms/step - loss: 10.0885 - mean_squared_error: 10.0885 - val_loss: 13.4372 - val_mean_squared_error: 13.4372\n",
            "Epoch 72/200\n",
            "41/41 [==============================] - 0s 4ms/step - loss: 10.2031 - mean_squared_error: 10.2031 - val_loss: 14.7183 - val_mean_squared_error: 14.7183\n",
            "Epoch 73/200\n",
            "41/41 [==============================] - 0s 4ms/step - loss: 10.1128 - mean_squared_error: 10.1128 - val_loss: 13.1571 - val_mean_squared_error: 13.1571\n",
            "Epoch 74/200\n",
            "41/41 [==============================] - 0s 4ms/step - loss: 10.1548 - mean_squared_error: 10.1548 - val_loss: 13.7439 - val_mean_squared_error: 13.7439\n",
            "Epoch 75/200\n",
            "41/41 [==============================] - 0s 4ms/step - loss: 10.1752 - mean_squared_error: 10.1752 - val_loss: 13.4275 - val_mean_squared_error: 13.4275\n",
            "Epoch 76/200\n",
            "41/41 [==============================] - 0s 4ms/step - loss: 10.0084 - mean_squared_error: 10.0084 - val_loss: 13.6751 - val_mean_squared_error: 13.6751\n",
            "Epoch 77/200\n",
            "41/41 [==============================] - 0s 4ms/step - loss: 10.0517 - mean_squared_error: 10.0517 - val_loss: 13.5731 - val_mean_squared_error: 13.5731\n",
            "Epoch 78/200\n",
            "41/41 [==============================] - 0s 4ms/step - loss: 9.7485 - mean_squared_error: 9.7485 - val_loss: 13.9952 - val_mean_squared_error: 13.9952\n",
            "Epoch 79/200\n",
            "41/41 [==============================] - 0s 5ms/step - loss: 9.7790 - mean_squared_error: 9.7790 - val_loss: 13.3005 - val_mean_squared_error: 13.3005\n",
            "Epoch 80/200\n",
            "41/41 [==============================] - 0s 4ms/step - loss: 9.9275 - mean_squared_error: 9.9275 - val_loss: 13.2582 - val_mean_squared_error: 13.2582\n",
            "Epoch 81/200\n",
            "41/41 [==============================] - 0s 4ms/step - loss: 9.7652 - mean_squared_error: 9.7652 - val_loss: 13.0890 - val_mean_squared_error: 13.0890\n",
            "Epoch 82/200\n",
            "41/41 [==============================] - 0s 4ms/step - loss: 9.8975 - mean_squared_error: 9.8975 - val_loss: 13.1380 - val_mean_squared_error: 13.1380\n",
            "Epoch 83/200\n",
            "41/41 [==============================] - 0s 4ms/step - loss: 9.6886 - mean_squared_error: 9.6886 - val_loss: 14.0034 - val_mean_squared_error: 14.0034\n",
            "Epoch 84/200\n",
            "41/41 [==============================] - 0s 4ms/step - loss: 9.5176 - mean_squared_error: 9.5176 - val_loss: 13.3069 - val_mean_squared_error: 13.3069\n",
            "Epoch 85/200\n",
            "41/41 [==============================] - 0s 5ms/step - loss: 9.6086 - mean_squared_error: 9.6086 - val_loss: 14.3546 - val_mean_squared_error: 14.3546\n",
            "Epoch 86/200\n",
            "41/41 [==============================] - 0s 4ms/step - loss: 9.5504 - mean_squared_error: 9.5504 - val_loss: 13.8800 - val_mean_squared_error: 13.8800\n",
            "Epoch 87/200\n",
            "41/41 [==============================] - 0s 4ms/step - loss: 9.5905 - mean_squared_error: 9.5905 - val_loss: 13.3474 - val_mean_squared_error: 13.3474\n",
            "Epoch 88/200\n",
            "41/41 [==============================] - 0s 4ms/step - loss: 9.9704 - mean_squared_error: 9.9704 - val_loss: 12.7976 - val_mean_squared_error: 12.7976\n",
            "Epoch 89/200\n",
            "41/41 [==============================] - 0s 4ms/step - loss: 9.6465 - mean_squared_error: 9.6465 - val_loss: 14.2710 - val_mean_squared_error: 14.2710\n",
            "Epoch 90/200\n",
            "41/41 [==============================] - 0s 4ms/step - loss: 9.2705 - mean_squared_error: 9.2705 - val_loss: 14.1158 - val_mean_squared_error: 14.1158\n",
            "Epoch 91/200\n",
            "41/41 [==============================] - 0s 4ms/step - loss: 9.5764 - mean_squared_error: 9.5764 - val_loss: 13.0796 - val_mean_squared_error: 13.0796\n",
            "Epoch 92/200\n",
            "41/41 [==============================] - 0s 4ms/step - loss: 9.1385 - mean_squared_error: 9.1385 - val_loss: 13.8110 - val_mean_squared_error: 13.8110\n",
            "Epoch 93/200\n",
            "41/41 [==============================] - 0s 4ms/step - loss: 9.1721 - mean_squared_error: 9.1721 - val_loss: 13.1537 - val_mean_squared_error: 13.1537\n",
            "Epoch 94/200\n",
            "41/41 [==============================] - 0s 4ms/step - loss: 9.3794 - mean_squared_error: 9.3794 - val_loss: 13.4537 - val_mean_squared_error: 13.4537\n",
            "Epoch 95/200\n",
            "41/41 [==============================] - 0s 4ms/step - loss: 9.1734 - mean_squared_error: 9.1734 - val_loss: 13.6910 - val_mean_squared_error: 13.6910\n",
            "Epoch 96/200\n",
            "41/41 [==============================] - 0s 4ms/step - loss: 9.0911 - mean_squared_error: 9.0911 - val_loss: 12.8787 - val_mean_squared_error: 12.8787\n",
            "Epoch 97/200\n",
            "41/41 [==============================] - 0s 4ms/step - loss: 8.7441 - mean_squared_error: 8.7441 - val_loss: 14.2745 - val_mean_squared_error: 14.2745\n",
            "Epoch 98/200\n",
            "41/41 [==============================] - 0s 4ms/step - loss: 8.9096 - mean_squared_error: 8.9096 - val_loss: 13.4999 - val_mean_squared_error: 13.4999\n",
            "Epoch 99/200\n",
            "41/41 [==============================] - 0s 4ms/step - loss: 9.6360 - mean_squared_error: 9.6360 - val_loss: 16.1858 - val_mean_squared_error: 16.1858\n",
            "Epoch 100/200\n",
            "41/41 [==============================] - 0s 4ms/step - loss: 8.9796 - mean_squared_error: 8.9796 - val_loss: 13.4996 - val_mean_squared_error: 13.4996\n",
            "Epoch 101/200\n",
            "41/41 [==============================] - 0s 4ms/step - loss: 8.7510 - mean_squared_error: 8.7510 - val_loss: 13.8649 - val_mean_squared_error: 13.8649\n",
            "Epoch 102/200\n",
            "41/41 [==============================] - 0s 4ms/step - loss: 8.7293 - mean_squared_error: 8.7293 - val_loss: 13.3511 - val_mean_squared_error: 13.3511\n",
            "Epoch 103/200\n",
            "41/41 [==============================] - 0s 4ms/step - loss: 8.6069 - mean_squared_error: 8.6069 - val_loss: 14.4079 - val_mean_squared_error: 14.4079\n",
            "Epoch 104/200\n",
            "41/41 [==============================] - 0s 4ms/step - loss: 8.6593 - mean_squared_error: 8.6593 - val_loss: 13.9044 - val_mean_squared_error: 13.9044\n",
            "Epoch 105/200\n",
            "41/41 [==============================] - 0s 4ms/step - loss: 8.7952 - mean_squared_error: 8.7952 - val_loss: 13.8081 - val_mean_squared_error: 13.8081\n",
            "Epoch 106/200\n",
            "41/41 [==============================] - 0s 4ms/step - loss: 8.6450 - mean_squared_error: 8.6450 - val_loss: 13.6806 - val_mean_squared_error: 13.6806\n",
            "Epoch 107/200\n",
            "41/41 [==============================] - 0s 4ms/step - loss: 8.7082 - mean_squared_error: 8.7082 - val_loss: 13.3277 - val_mean_squared_error: 13.3277\n",
            "Epoch 108/200\n",
            "41/41 [==============================] - 0s 4ms/step - loss: 8.7780 - mean_squared_error: 8.7780 - val_loss: 13.5428 - val_mean_squared_error: 13.5428\n",
            "Epoch 109/200\n",
            "41/41 [==============================] - 0s 4ms/step - loss: 8.4856 - mean_squared_error: 8.4856 - val_loss: 13.7353 - val_mean_squared_error: 13.7353\n",
            "Epoch 110/200\n",
            "41/41 [==============================] - 0s 4ms/step - loss: 8.3656 - mean_squared_error: 8.3656 - val_loss: 13.3109 - val_mean_squared_error: 13.3109\n",
            "Epoch 111/200\n",
            "41/41 [==============================] - 0s 4ms/step - loss: 8.4726 - mean_squared_error: 8.4726 - val_loss: 14.0290 - val_mean_squared_error: 14.0290\n",
            "Epoch 112/200\n",
            "41/41 [==============================] - 0s 4ms/step - loss: 8.4193 - mean_squared_error: 8.4193 - val_loss: 13.9701 - val_mean_squared_error: 13.9701\n",
            "Epoch 113/200\n",
            "41/41 [==============================] - 0s 4ms/step - loss: 8.3369 - mean_squared_error: 8.3369 - val_loss: 13.3461 - val_mean_squared_error: 13.3461\n",
            "Epoch 114/200\n",
            "41/41 [==============================] - 0s 4ms/step - loss: 8.3786 - mean_squared_error: 8.3786 - val_loss: 14.4684 - val_mean_squared_error: 14.4684\n",
            "Epoch 115/200\n",
            "41/41 [==============================] - 0s 4ms/step - loss: 8.5319 - mean_squared_error: 8.5319 - val_loss: 14.0848 - val_mean_squared_error: 14.0848\n",
            "Epoch 116/200\n",
            "41/41 [==============================] - 0s 4ms/step - loss: 8.2956 - mean_squared_error: 8.2956 - val_loss: 14.8744 - val_mean_squared_error: 14.8744\n",
            "Epoch 117/200\n",
            "41/41 [==============================] - 0s 4ms/step - loss: 8.4227 - mean_squared_error: 8.4227 - val_loss: 13.7292 - val_mean_squared_error: 13.7292\n",
            "Epoch 118/200\n",
            "41/41 [==============================] - 0s 4ms/step - loss: 8.1935 - mean_squared_error: 8.1935 - val_loss: 14.3197 - val_mean_squared_error: 14.3197\n",
            "Epoch 119/200\n",
            "41/41 [==============================] - 0s 4ms/step - loss: 8.1826 - mean_squared_error: 8.1826 - val_loss: 14.4867 - val_mean_squared_error: 14.4867\n",
            "Epoch 120/200\n",
            "41/41 [==============================] - 0s 4ms/step - loss: 8.5696 - mean_squared_error: 8.5696 - val_loss: 14.3426 - val_mean_squared_error: 14.3426\n",
            "Epoch 121/200\n",
            "41/41 [==============================] - 0s 4ms/step - loss: 8.3933 - mean_squared_error: 8.3933 - val_loss: 15.1846 - val_mean_squared_error: 15.1846\n",
            "Epoch 122/200\n",
            "41/41 [==============================] - 0s 4ms/step - loss: 8.1531 - mean_squared_error: 8.1531 - val_loss: 14.0478 - val_mean_squared_error: 14.0478\n",
            "Epoch 123/200\n",
            "41/41 [==============================] - 0s 4ms/step - loss: 8.0622 - mean_squared_error: 8.0622 - val_loss: 14.8315 - val_mean_squared_error: 14.8315\n",
            "Epoch 124/200\n",
            "41/41 [==============================] - 0s 4ms/step - loss: 8.1239 - mean_squared_error: 8.1239 - val_loss: 15.2558 - val_mean_squared_error: 15.2558\n",
            "Epoch 125/200\n",
            "41/41 [==============================] - 0s 4ms/step - loss: 8.0391 - mean_squared_error: 8.0391 - val_loss: 14.6056 - val_mean_squared_error: 14.6056\n",
            "Epoch 126/200\n",
            "41/41 [==============================] - 0s 4ms/step - loss: 8.1466 - mean_squared_error: 8.1466 - val_loss: 14.0468 - val_mean_squared_error: 14.0468\n",
            "Epoch 127/200\n",
            "41/41 [==============================] - 0s 4ms/step - loss: 8.2471 - mean_squared_error: 8.2471 - val_loss: 14.2511 - val_mean_squared_error: 14.2511\n",
            "Epoch 128/200\n",
            "41/41 [==============================] - 0s 4ms/step - loss: 7.9096 - mean_squared_error: 7.9096 - val_loss: 14.0870 - val_mean_squared_error: 14.0870\n",
            "Epoch 129/200\n",
            "41/41 [==============================] - 0s 4ms/step - loss: 7.8946 - mean_squared_error: 7.8946 - val_loss: 13.9393 - val_mean_squared_error: 13.9393\n",
            "Epoch 130/200\n",
            "41/41 [==============================] - 0s 4ms/step - loss: 8.0118 - mean_squared_error: 8.0118 - val_loss: 15.4489 - val_mean_squared_error: 15.4489\n",
            "Epoch 131/200\n",
            "41/41 [==============================] - 0s 4ms/step - loss: 7.9055 - mean_squared_error: 7.9055 - val_loss: 14.6062 - val_mean_squared_error: 14.6062\n",
            "Epoch 132/200\n",
            "41/41 [==============================] - 0s 5ms/step - loss: 7.7953 - mean_squared_error: 7.7953 - val_loss: 14.9036 - val_mean_squared_error: 14.9036\n",
            "Epoch 133/200\n",
            "41/41 [==============================] - 0s 4ms/step - loss: 7.9658 - mean_squared_error: 7.9658 - val_loss: 15.1552 - val_mean_squared_error: 15.1552\n",
            "Epoch 134/200\n",
            "41/41 [==============================] - 0s 4ms/step - loss: 7.6725 - mean_squared_error: 7.6725 - val_loss: 14.5455 - val_mean_squared_error: 14.5455\n",
            "Epoch 135/200\n",
            "41/41 [==============================] - 0s 4ms/step - loss: 7.6698 - mean_squared_error: 7.6698 - val_loss: 15.0020 - val_mean_squared_error: 15.0020\n",
            "Epoch 136/200\n",
            "41/41 [==============================] - 0s 4ms/step - loss: 7.8263 - mean_squared_error: 7.8263 - val_loss: 14.8304 - val_mean_squared_error: 14.8304\n",
            "Epoch 137/200\n",
            "41/41 [==============================] - 0s 4ms/step - loss: 7.9254 - mean_squared_error: 7.9254 - val_loss: 14.7470 - val_mean_squared_error: 14.7470\n",
            "Epoch 138/200\n",
            "41/41 [==============================] - 0s 4ms/step - loss: 7.5272 - mean_squared_error: 7.5272 - val_loss: 15.2564 - val_mean_squared_error: 15.2564\n",
            "Epoch 139/200\n",
            "41/41 [==============================] - 0s 4ms/step - loss: 7.8099 - mean_squared_error: 7.8099 - val_loss: 15.2029 - val_mean_squared_error: 15.2029\n",
            "Epoch 140/200\n",
            "41/41 [==============================] - 0s 4ms/step - loss: 7.7339 - mean_squared_error: 7.7339 - val_loss: 15.6456 - val_mean_squared_error: 15.6456\n",
            "Epoch 141/200\n",
            "41/41 [==============================] - 0s 4ms/step - loss: 7.5216 - mean_squared_error: 7.5216 - val_loss: 15.8413 - val_mean_squared_error: 15.8413\n",
            "Epoch 142/200\n",
            "41/41 [==============================] - 0s 4ms/step - loss: 7.5251 - mean_squared_error: 7.5251 - val_loss: 14.8914 - val_mean_squared_error: 14.8914\n",
            "Epoch 143/200\n",
            "41/41 [==============================] - 0s 4ms/step - loss: 7.3127 - mean_squared_error: 7.3127 - val_loss: 15.2980 - val_mean_squared_error: 15.2980\n",
            "Epoch 144/200\n",
            "41/41 [==============================] - 0s 4ms/step - loss: 7.3964 - mean_squared_error: 7.3964 - val_loss: 15.4431 - val_mean_squared_error: 15.4431\n",
            "Epoch 145/200\n",
            "41/41 [==============================] - 0s 4ms/step - loss: 7.1712 - mean_squared_error: 7.1712 - val_loss: 15.3251 - val_mean_squared_error: 15.3251\n",
            "Epoch 146/200\n",
            "41/41 [==============================] - 0s 4ms/step - loss: 7.2464 - mean_squared_error: 7.2464 - val_loss: 15.8297 - val_mean_squared_error: 15.8297\n",
            "Epoch 147/200\n",
            "41/41 [==============================] - 0s 4ms/step - loss: 7.3378 - mean_squared_error: 7.3378 - val_loss: 14.5562 - val_mean_squared_error: 14.5562\n",
            "Epoch 148/200\n",
            "41/41 [==============================] - 0s 4ms/step - loss: 7.3189 - mean_squared_error: 7.3189 - val_loss: 15.7208 - val_mean_squared_error: 15.7208\n",
            "Epoch 149/200\n",
            "41/41 [==============================] - 0s 4ms/step - loss: 7.0305 - mean_squared_error: 7.0305 - val_loss: 15.6590 - val_mean_squared_error: 15.6590\n",
            "Epoch 150/200\n",
            "41/41 [==============================] - 0s 4ms/step - loss: 7.1995 - mean_squared_error: 7.1995 - val_loss: 15.5744 - val_mean_squared_error: 15.5744\n",
            "Epoch 151/200\n",
            "41/41 [==============================] - 0s 4ms/step - loss: 7.1944 - mean_squared_error: 7.1944 - val_loss: 19.1672 - val_mean_squared_error: 19.1672\n",
            "Epoch 152/200\n",
            "41/41 [==============================] - 0s 4ms/step - loss: 7.8166 - mean_squared_error: 7.8166 - val_loss: 15.5006 - val_mean_squared_error: 15.5006\n",
            "Epoch 153/200\n",
            "41/41 [==============================] - 0s 4ms/step - loss: 7.0307 - mean_squared_error: 7.0307 - val_loss: 15.5574 - val_mean_squared_error: 15.5574\n",
            "Epoch 154/200\n",
            "41/41 [==============================] - 0s 4ms/step - loss: 6.8861 - mean_squared_error: 6.8861 - val_loss: 16.5098 - val_mean_squared_error: 16.5098\n",
            "Epoch 155/200\n",
            "41/41 [==============================] - 0s 4ms/step - loss: 6.8286 - mean_squared_error: 6.8286 - val_loss: 16.0443 - val_mean_squared_error: 16.0443\n",
            "Epoch 156/200\n",
            "41/41 [==============================] - 0s 4ms/step - loss: 6.9271 - mean_squared_error: 6.9271 - val_loss: 15.6363 - val_mean_squared_error: 15.6363\n",
            "Epoch 157/200\n",
            "41/41 [==============================] - 0s 4ms/step - loss: 6.8508 - mean_squared_error: 6.8508 - val_loss: 16.2703 - val_mean_squared_error: 16.2703\n",
            "Epoch 158/200\n",
            "41/41 [==============================] - 0s 4ms/step - loss: 6.7671 - mean_squared_error: 6.7671 - val_loss: 17.6314 - val_mean_squared_error: 17.6314\n",
            "Epoch 159/200\n",
            "41/41 [==============================] - 0s 4ms/step - loss: 7.1011 - mean_squared_error: 7.1011 - val_loss: 15.3399 - val_mean_squared_error: 15.3399\n",
            "Epoch 160/200\n",
            "41/41 [==============================] - 0s 4ms/step - loss: 6.7559 - mean_squared_error: 6.7559 - val_loss: 16.0930 - val_mean_squared_error: 16.0930\n",
            "Epoch 161/200\n",
            "41/41 [==============================] - 0s 4ms/step - loss: 6.6963 - mean_squared_error: 6.6963 - val_loss: 16.1135 - val_mean_squared_error: 16.1135\n",
            "Epoch 162/200\n",
            "41/41 [==============================] - 0s 4ms/step - loss: 6.9302 - mean_squared_error: 6.9302 - val_loss: 15.3475 - val_mean_squared_error: 15.3475\n",
            "Epoch 163/200\n",
            "41/41 [==============================] - 0s 4ms/step - loss: 6.7417 - mean_squared_error: 6.7417 - val_loss: 16.4265 - val_mean_squared_error: 16.4265\n",
            "Epoch 164/200\n",
            "41/41 [==============================] - 0s 4ms/step - loss: 6.6285 - mean_squared_error: 6.6285 - val_loss: 16.6854 - val_mean_squared_error: 16.6854\n",
            "Epoch 165/200\n",
            "41/41 [==============================] - 0s 4ms/step - loss: 6.5914 - mean_squared_error: 6.5914 - val_loss: 15.7160 - val_mean_squared_error: 15.7160\n",
            "Epoch 166/200\n",
            "41/41 [==============================] - 0s 4ms/step - loss: 6.5787 - mean_squared_error: 6.5787 - val_loss: 15.8343 - val_mean_squared_error: 15.8343\n",
            "Epoch 167/200\n",
            "41/41 [==============================] - 0s 4ms/step - loss: 6.9238 - mean_squared_error: 6.9238 - val_loss: 15.3384 - val_mean_squared_error: 15.3384\n",
            "Epoch 168/200\n",
            "41/41 [==============================] - 0s 4ms/step - loss: 6.6061 - mean_squared_error: 6.6061 - val_loss: 16.3194 - val_mean_squared_error: 16.3194\n",
            "Epoch 169/200\n",
            "41/41 [==============================] - 0s 4ms/step - loss: 6.8690 - mean_squared_error: 6.8690 - val_loss: 15.5897 - val_mean_squared_error: 15.5897\n",
            "Epoch 170/200\n",
            "41/41 [==============================] - 0s 4ms/step - loss: 6.7375 - mean_squared_error: 6.7375 - val_loss: 16.0299 - val_mean_squared_error: 16.0299\n",
            "Epoch 171/200\n",
            "41/41 [==============================] - 0s 4ms/step - loss: 6.4524 - mean_squared_error: 6.4524 - val_loss: 16.0980 - val_mean_squared_error: 16.0980\n",
            "Epoch 172/200\n",
            "41/41 [==============================] - 0s 4ms/step - loss: 6.5346 - mean_squared_error: 6.5346 - val_loss: 16.4707 - val_mean_squared_error: 16.4707\n",
            "Epoch 173/200\n",
            "41/41 [==============================] - 0s 4ms/step - loss: 6.4613 - mean_squared_error: 6.4613 - val_loss: 16.9230 - val_mean_squared_error: 16.9230\n",
            "Epoch 174/200\n",
            "41/41 [==============================] - 0s 4ms/step - loss: 6.4889 - mean_squared_error: 6.4889 - val_loss: 16.7963 - val_mean_squared_error: 16.7963\n",
            "Epoch 175/200\n",
            "41/41 [==============================] - 0s 4ms/step - loss: 6.5422 - mean_squared_error: 6.5422 - val_loss: 16.1023 - val_mean_squared_error: 16.1023\n",
            "Epoch 176/200\n",
            "41/41 [==============================] - 0s 4ms/step - loss: 6.6999 - mean_squared_error: 6.6999 - val_loss: 16.5530 - val_mean_squared_error: 16.5530\n",
            "Epoch 177/200\n",
            "41/41 [==============================] - 0s 4ms/step - loss: 6.4750 - mean_squared_error: 6.4750 - val_loss: 17.6120 - val_mean_squared_error: 17.6120\n",
            "Epoch 178/200\n",
            "41/41 [==============================] - 0s 4ms/step - loss: 6.5448 - mean_squared_error: 6.5448 - val_loss: 17.4926 - val_mean_squared_error: 17.4926\n",
            "Epoch 179/200\n",
            "41/41 [==============================] - 0s 4ms/step - loss: 6.3090 - mean_squared_error: 6.3090 - val_loss: 16.2604 - val_mean_squared_error: 16.2604\n",
            "Epoch 180/200\n",
            "41/41 [==============================] - 0s 4ms/step - loss: 6.2325 - mean_squared_error: 6.2325 - val_loss: 16.8488 - val_mean_squared_error: 16.8488\n",
            "Epoch 181/200\n",
            "41/41 [==============================] - 0s 4ms/step - loss: 6.2848 - mean_squared_error: 6.2848 - val_loss: 16.6493 - val_mean_squared_error: 16.6493\n",
            "Epoch 182/200\n",
            "41/41 [==============================] - 0s 4ms/step - loss: 6.2283 - mean_squared_error: 6.2283 - val_loss: 16.9675 - val_mean_squared_error: 16.9675\n",
            "Epoch 183/200\n",
            "41/41 [==============================] - 0s 4ms/step - loss: 6.1278 - mean_squared_error: 6.1278 - val_loss: 16.8900 - val_mean_squared_error: 16.8900\n",
            "Epoch 184/200\n",
            "41/41 [==============================] - 0s 4ms/step - loss: 6.2419 - mean_squared_error: 6.2419 - val_loss: 16.5659 - val_mean_squared_error: 16.5659\n",
            "Epoch 185/200\n",
            "41/41 [==============================] - 0s 4ms/step - loss: 6.1529 - mean_squared_error: 6.1529 - val_loss: 17.3802 - val_mean_squared_error: 17.3802\n",
            "Epoch 186/200\n",
            "41/41 [==============================] - 0s 4ms/step - loss: 6.1951 - mean_squared_error: 6.1951 - val_loss: 17.1159 - val_mean_squared_error: 17.1159\n",
            "Epoch 187/200\n",
            "41/41 [==============================] - 0s 4ms/step - loss: 6.2525 - mean_squared_error: 6.2525 - val_loss: 18.9242 - val_mean_squared_error: 18.9242\n",
            "Epoch 188/200\n",
            "41/41 [==============================] - 0s 4ms/step - loss: 6.2914 - mean_squared_error: 6.2914 - val_loss: 16.1351 - val_mean_squared_error: 16.1351\n",
            "Epoch 189/200\n",
            "41/41 [==============================] - 0s 4ms/step - loss: 6.1522 - mean_squared_error: 6.1522 - val_loss: 17.4258 - val_mean_squared_error: 17.4258\n",
            "Epoch 190/200\n",
            "41/41 [==============================] - 0s 4ms/step - loss: 6.1825 - mean_squared_error: 6.1825 - val_loss: 17.5272 - val_mean_squared_error: 17.5272\n",
            "Epoch 191/200\n",
            "41/41 [==============================] - 0s 4ms/step - loss: 6.3306 - mean_squared_error: 6.3306 - val_loss: 16.8517 - val_mean_squared_error: 16.8517\n",
            "Epoch 192/200\n",
            "41/41 [==============================] - 0s 4ms/step - loss: 5.8860 - mean_squared_error: 5.8860 - val_loss: 16.6795 - val_mean_squared_error: 16.6795\n",
            "Epoch 193/200\n",
            "41/41 [==============================] - 0s 4ms/step - loss: 6.1520 - mean_squared_error: 6.1520 - val_loss: 17.0428 - val_mean_squared_error: 17.0428\n",
            "Epoch 194/200\n",
            "41/41 [==============================] - 0s 4ms/step - loss: 6.0567 - mean_squared_error: 6.0567 - val_loss: 16.2440 - val_mean_squared_error: 16.2440\n",
            "Epoch 195/200\n",
            "41/41 [==============================] - 0s 4ms/step - loss: 5.9726 - mean_squared_error: 5.9726 - val_loss: 16.9630 - val_mean_squared_error: 16.9630\n",
            "Epoch 196/200\n",
            "41/41 [==============================] - 0s 4ms/step - loss: 6.0271 - mean_squared_error: 6.0271 - val_loss: 16.8625 - val_mean_squared_error: 16.8625\n",
            "Epoch 197/200\n",
            "41/41 [==============================] - 0s 4ms/step - loss: 5.9526 - mean_squared_error: 5.9526 - val_loss: 16.5898 - val_mean_squared_error: 16.5898\n",
            "Epoch 198/200\n",
            "41/41 [==============================] - 0s 4ms/step - loss: 5.9342 - mean_squared_error: 5.9342 - val_loss: 16.3581 - val_mean_squared_error: 16.3581\n",
            "Epoch 199/200\n",
            "41/41 [==============================] - 0s 4ms/step - loss: 5.8331 - mean_squared_error: 5.8331 - val_loss: 17.8117 - val_mean_squared_error: 17.8117\n",
            "Epoch 200/200\n",
            "41/41 [==============================] - 0s 4ms/step - loss: 6.0412 - mean_squared_error: 6.0412 - val_loss: 16.9400 - val_mean_squared_error: 16.9400\n"
          ]
        }
      ]
    },
    {
      "cell_type": "code",
      "source": [
        "model_history.history.keys()"
      ],
      "metadata": {
        "colab": {
          "base_uri": "https://localhost:8080/"
        },
        "id": "x_CppvZLF61r",
        "outputId": "fe7cd8fc-0d24-423e-82e4-a288ca2b809d"
      },
      "execution_count": 47,
      "outputs": [
        {
          "output_type": "execute_result",
          "data": {
            "text/plain": [
              "dict_keys(['loss', 'mean_squared_error', 'val_loss', 'val_mean_squared_error'])"
            ]
          },
          "metadata": {},
          "execution_count": 47
        }
      ]
    },
    {
      "cell_type": "code",
      "source": [
        "y_pred = reg.predict(xtest)"
      ],
      "metadata": {
        "id": "0kxvUKLzGmZN"
      },
      "execution_count": 48,
      "outputs": []
    },
    {
      "cell_type": "code",
      "source": [
        "from sklearn.metrics import r2_score"
      ],
      "metadata": {
        "id": "4TzxTqleGyrY"
      },
      "execution_count": 49,
      "outputs": []
    },
    {
      "cell_type": "code",
      "source": [
        "cm = r2_score(y_test,y_pred)"
      ],
      "metadata": {
        "id": "5bL67B9cHq6P"
      },
      "execution_count": 50,
      "outputs": []
    },
    {
      "cell_type": "code",
      "source": [
        "cm"
      ],
      "metadata": {
        "colab": {
          "base_uri": "https://localhost:8080/"
        },
        "id": "uH8AiHocHwM6",
        "outputId": "1ae3d2fd-2c68-41f1-edcc-f484720388ae"
      },
      "execution_count": 51,
      "outputs": [
        {
          "output_type": "execute_result",
          "data": {
            "text/plain": [
              "0.8112571275740287"
            ]
          },
          "metadata": {},
          "execution_count": 51
        }
      ]
    }
  ]
}